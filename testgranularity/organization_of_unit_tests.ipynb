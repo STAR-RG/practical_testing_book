{
  "nbformat": 4,
  "nbformat_minor": 0,
  "metadata": {
    "colab": {
      "name": "organization_of_unit_tests.ipynb",
      "provenance": [],
      "collapsed_sections": []
    },
    "kernelspec": {
      "name": "python3",
      "display_name": "Python 3"
    }
  },
  "cells": [
    {
      "cell_type": "markdown",
      "metadata": {
        "colab_type": "text",
        "id": "kJI5mLMQWzhR"
      },
      "source": [
        "# Organization of Unit Tests\n",
        "\n",
        "The organization of test cases is essential to make them better, more independent and help with their maintenance.\n",
        "\n",
        "For that, there are several standards related to automated tests that can be used in Unittest tests. Some of them are:"
      ]
    },
    {
      "cell_type": "markdown",
      "metadata": {
        "colab_type": "text",
        "id": "wL_Tek8ZW4jL"
      },
      "source": [
        "## Organizing by Instances\n",
        "\n",
        "As seen previously, unit tests are implemented as instances of unittest. In the previous examples, only one instance of the element unittest.testcase was used. For example, the The circle test example, in the section Hands on has the instance \"TestCircleArea\".\n",
        "\n",
        "To a good organization of the test code, it is possible to create different instances to store them. They can contain test cases for the different separations you want to do. For example, if we were writing unit tests for e-commerce functions we could create an instance for the shopping cart, where we would test the functions of adding a product, removing it or increasing its quantity in the cart. It would also be possible to create an instance for the calculation of freight, where we could test the functions that interact with the carrier systems and obtain the value of the shipment and the function that adds the value of the shipment to the total value of the purchase.\n",
        "\n",
        "Below is a example with the tests of a calculator organized by functions:\n",
        "\n",
        "**calc.py:**"
      ]
    },
    {
      "cell_type": "code",
      "execution_count": null,
      "metadata": {
        "colab": {},
        "colab_type": "code",
        "id": "4ZbXvzRs8Cdt"
      },
      "outputs": [],
      "source": [
        "def add(x, y):\n",
        "    # Add Function\n",
        "    return x + y\n",
        "\n",
        "def sub(x, y):\n",
        "    # Subtract Function\n",
        "    return x - y\n",
        "\n",
        "def mult(x, y):\n",
        "    # Multiply Function\n",
        "    return x * y\n",
        "\n",
        "def div(x, y):\n",
        "    # Divide Function\n",
        "    if y == 0:\n",
        "        raise ValueError('Can not divide by zero!')\n",
        "    return x / y\n"
      ]
    },
    {
      "cell_type": "markdown",
      "metadata": {
        "colab_type": "text",
        "id": "g-FmFsLf8PZU"
      },
      "source": [
        "**calc_test.py:**"
      ]
    },
    {
      "cell_type": "code",
      "execution_count": null,
      "metadata": {
        "colab": {},
        "colab_type": "code",
        "id": "64DMiN228STw"
      },
      "outputs": [],
      "source": [
        "import unittest\n",
        "import calc\n",
        "\n",
        "class TestCalcAddFunc(unittest.TestCase):\n",
        "\n",
        "    def test_add_units(self):\n",
        "        self.assertEqual(calc.add(2, 4), 6)\n",
        "        self.assertEqual(calc.add(6, 3), 9)\n",
        "\n",
        "    def test_add_dozens(self):\n",
        "        self.assertEqual(calc.add(10, 10), 20)\n",
        "        self.assertEqual(calc.add(10, 55), 65)\n",
        "\n",
        "class TestCalcSubFunc(unittest.TestCase):\n",
        "\n",
        "    def test_sub_units(self):\n",
        "        self.assertEqual(calc.sub(-1, 1), -2)\n",
        "        self.assertEqual(calc.sub(-1, -1), 0)\n",
        "\n",
        "    def test_sub_dozens(self):\n",
        "        self.assertEqual(calc.sub(71, 60), 11)\n",
        "        self.assertEqual(calc.sub(-10, -10), 0)\n",
        "\n",
        "class TestCalcMultFunc(unittest.TestCase):\n",
        "\n",
        "    def test_mult_units(self):\n",
        "        self.assertEqual(calc.mult(0, 5), 0)\n",
        "        self.assertEqual(calc.mult(7, 1), 7)\n",
        "\n",
        "    def test_mult_dozens(self):\n",
        "        self.assertEqual(calc.mult(10, 50), 500)\n",
        "        self.assertEqual(calc.mult(10, -1), -10)\n",
        "\n",
        "class TestCalcDivFunc(unittest.TestCase):\n",
        "\n",
        "    def test_div_unit(self):\n",
        "        self.assertEqual(calc.div(5, 5), 1)\n",
        "        self.assertEqual(calc.div(-1, 1), -1)\n",
        "\n",
        "    def test_div_dizens(self):\n",
        "        self.assertEqual(calc.div(20, 10), 2)\n",
        "        self.assertEqual(calc.div(49, 7), 7)\n",
        "\n",
        "# run the tests in jupyter notebook\n",
        "unittest.main(argv=[''], exit=False)\n"
      ]
    },
    {
      "cell_type": "markdown",
      "metadata": {
        "colab_type": "text",
        "id": "-6IyFbNY8XP7"
      },
      "source": [
        "In this example we created several different instances and each of them has unit tests corresponding to only a single feature of our calculator.\n",
        "\n",
        "To run all the tests in calc_test.py we can only run:\n",
        "\n",
        "    python calc_test.py\n",
        "\n",
        "But if for example calc_test.py had hundreds of tests and some modifications were made to the calc.py ‘sum’ function, for this case the execution of all tests may not be necessary and will even last longer. Then, it is possible to run the tests of just the sum instance by executing:\n",
        "\n",
        "    python calc_test.py TestCalcAddFunc\n",
        "\n",
        "And if you just want to run the tens sum tests, just run:\n",
        "\n",
        "    python calctest.py TestCalcAddFunc.test_add_dozens"
      ]
    },
    {
      "cell_type": "markdown",
      "metadata": {
        "colab_type": "text",
        "id": "V-6_BeOe9Vpl"
      },
      "source": [
        "## Using setUp() and tearDown()\n",
        "\n",
        "The setUp() and tearDown() functions are also useful in organizing test cases. Through them it is possible to group functions that are executed by all test cases of a specific instance at the beginning or end of each test.\n",
        "\n",
        "Below is an example of using these classes:\n",
        "\n",
        "**people.py**"
      ]
    },
    {
      "cell_type": "markdown",
      "metadata": {
        "colab_type": "text",
        "id": "-yETtY6p_gbb"
      },
      "source": [
        "The tearDown() function can be used if it was necessary to delete the person object created at the end of the tests."
      ]
    },
    {
      "cell_type": "code",
      "execution_count": null,
      "metadata": {
        "colab": {},
        "colab_type": "code",
        "id": "RtIbC12w9yAy"
      },
      "outputs": [],
      "source": [
        "class Person:\n",
        "    def __init__(self, name, age):\n",
        "        self.name = name\n",
        "        self.age = age\n",
        "    \n",
        "    def getName(self):\n",
        "        return 'My name is ' + self.name\n",
        "\n",
        "    def getNameAndAge(self):\n",
        "        return 'My name is ' + self.name + \" and i am \" + str(self.age) + \" years old\"\n"
      ]
    },
    {
      "cell_type": "markdown",
      "metadata": {
        "colab_type": "text",
        "id": "p2dL6iXA-Euv"
      },
      "source": [
        "**people_test.py**"
      ]
    },
    {
      "cell_type": "code",
      "execution_count": null,
      "metadata": {
        "colab": {},
        "colab_type": "code",
        "id": "e-Z359cB--wN"
      },
      "outputs": [],
      "source": [
        "import unittest\n",
        "import people\n",
        "\n",
        "class PeopleTestCase(unittest.TestCase):\n",
        "    \n",
        "    def test_ask_name(self):\n",
        "        person = people.Person(\"John\", 36)\n",
        "        self.assertEqual(person.getName(), 'My name is John')\n",
        "\n",
        "    def test_ask_name_and_age(self):\n",
        "        person = people.Person(\"John\", 36)\n",
        "        self.assertEqual(person.getNameAndAge(), 'My name is John and i am 36 years old')\n",
        "\n",
        "# run the tests in jupyter notebook\n",
        "unittest.main(argv=[''], exit=False)\n"
      ]
    },
    {
      "cell_type": "markdown",
      "metadata": {
        "colab_type": "text",
        "id": "B-sYrrcs_DFZ"
      },
      "source": [
        "As we can see in the people_test.py it is necessary to create a new Person object for each test case.\n",
        "\n",
        "But, using setUp(), it is possible to create this object only once and use it when necessary, being as follows:\n",
        "\n",
        "**people_test.py**\n"
      ]
    },
    {
      "cell_type": "code",
      "execution_count": null,
      "metadata": {
        "colab": {},
        "colab_type": "code",
        "id": "ixufU8cf_axR"
      },
      "outputs": [],
      "source": [
        "import unittest\n",
        "import people\n",
        "\n",
        "class PeopleTestCase(unittest.TestCase):\n",
        "    def setUp(self):\n",
        "        self.person = people.Person(\"John\", 36)\n",
        "    \n",
        "    def test_ask_name(self):\n",
        "        self.assertEqual(self.person.getName(), 'My name is John')\n",
        "\n",
        "    def test_ask_name_and_age(self):\n",
        "        self.assertEqual(self.person.getNameAndAge(), 'My name is John and i am 36 years old')\n",
        "\n",
        "# run the tests in jupyter notebook\n",
        "unittest.main(argv=[''], exit=False)"
      ]
    }
  ]
}
