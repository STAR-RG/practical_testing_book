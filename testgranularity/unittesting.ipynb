{
  "nbformat": 4,
  "nbformat_minor": 0,
  "metadata": {
    "kernelspec": {
      "display_name": "Python 3",
      "language": "python",
      "name": "python3"
    },
    "language_info": {
      "codemirror_mode": {
        "name": "ipython",
        "version": 3
      },
      "file_extension": ".py",
      "mimetype": "text/x-python",
      "name": "python",
      "nbconvert_exporter": "python",
      "pygments_lexer": "ipython3",
      "version": "3.8.2"
    },
    "colab": {
      "name": "unittesting.ipynb",
      "provenance": [],
      "collapsed_sections": [],
      "toc_visible": true
    }
  },
  "cells": [
    {
      "cell_type": "markdown",
      "metadata": {
        "colab_type": "text",
        "id": "pTBUYzwZdbH2"
      },
      "source": [
        "\n",
        "# Unit Testing"
      ]
    },
    {
      "cell_type": "markdown",
      "metadata": {
        "colab_type": "text",
        "id": "G3M1vUNoetsJ"
      },
      "source": [
        "Unit Tests is the phase where each unit of the system is tested individually. The purpose is to isolate each part of the system to verify that they are working as specified. It consists of checking the smallest unit of the software project.\n",
        "\n",
        "The use of this type of test throughout the implementation is possible to reduce the amount of bugs in the application. Basically unit tests work by comparing the results of the functions to be tested with expected values.\n",
        "\n",
        "The unit tests and automated tests are not primarily used to verify that a specific function is working correctly, but to ensure that after changes in the code base, your software continues to work."
      ]
    },
    {
      "cell_type": "markdown",
      "metadata": {
        "colab_type": "text",
        "id": "zyfuAgnidtGJ"
      },
      "source": [
        "## Example\n",
        "\n",
        "You have just created a simple calculator class:"
      ]
    },
    {
      "cell_type": "code",
      "execution_count": 7,
      "metadata": {
        "colab": {},
        "colab_type": "code",
        "id": "bc83M4RyeDyq"
      },
      "outputs": [],
      "source": [
        "class Calculator:\n",
        "  # constructor is empty \n",
        "  def __init__(self):\n",
        "    pass\n",
        "  \n",
        "  # return the addition\n",
        "  def add(self, n1, n2):\n",
        "    return n1 + n2\n",
        "\n",
        "  #return first value minus the second\n",
        "  def subtract(self, n1, n2):\n",
        "    return n1 - n2\n",
        "  \n",
        "  #return the multiplication\n",
        "  def multiply(self, n1, n2):\n",
        "    return n1 * n2\n",
        "\n",
        "  #return first value divided by the second\n",
        "  def divide(self, n1, n2):\n",
        "    if n2 != 0:\n",
        "      return n1/n2"
      ]
    },
    {
      "cell_type": "markdown",
      "metadata": {
        "colab_type": "text",
        "id": "XLkxW1g0fOz4"
      },
      "source": [
        "Now, you will want to test that all methods are working as expected.  To do this, you will create your test class:"
      ]
    },
    {
      "cell_type": "code",
      "execution_count": 12,
      "metadata": {
        "colab": {},
        "colab_type": "code",
        "id": "IGu_cs-Ifb-p"
      },
      "outputs": [],
      "source": [
        "class CalculatorTestCase(unittest.TestCase): # create a class to test the Calculator class\n",
        "  \n",
        "  # creating a test for the method add\n",
        "  def test_add(self): \n",
        "    result = Calculator.add(4,7)\n",
        "    expected = 11\n",
        "    self.assertEqual(result, expected) # checking if the result obtained is equal to the expected result\n",
        "  \n",
        "  # creating a test for the method subtract\n",
        "  def test_subtract(self): \n",
        "    result = Calculator.subtract(10,5)\n",
        "    expected = 5\n",
        "    self.assertEqual(result, expected)\n",
        "\n",
        "  # creating a test for the method multiply\n",
        "  def test_multiply(self): \n",
        "    result = Calculator.multiply(3,7)\n",
        "    expected = 21\n",
        "    self.assertEqual(result, expected)\n",
        "\n",
        "  # creating a test for the method divide\n",
        "  def test_divide(self): \n",
        "    result = Calculator.divide(10,2)\n",
        "    expected = 5\n",
        "    self.assertEqual(result, expected)"
      ]
    },
    {
      "cell_type": "markdown",
      "metadata": {
        "colab_type": "text",
        "id": "MCbp_TrQ0BKc"
      },
      "source": [
        "We created 4 unit tests, each test is checking a method of the Calculator class. These checks are being done through calls to `Assertions`, in this case the `assertEqual` function."
      ]
    },
    {
      "cell_type": "code",
      "execution_count": null,
      "metadata": {
        "colab": {},
        "colab_type": "code",
        "id": "dzT5DNcWs5WG"
      },
      "outputs": [],
      "source": [
        "# to run the tests in jupyter notebook we call\n",
        "unittest.main(argv=[''], exit=False)"
      ]
    },
    {
      "cell_type": "markdown",
      "metadata": {
        "colab_type": "text",
        "id": "xFS4eCJw3W5q"
      },
      "source": [
        "The results for the run tests are displayed in the first line: the ‘`.`’ means the test has passed. ‘`F`’ means the test failed and the '`s`’ the test was skipped."
      ]
    },
    {
      "cell_type": "markdown",
      "metadata": {
        "colab_type": "text",
        "id": "qRJccP51psHD"
      },
      "source": [
        "## What is Python Unittest ?\n",
        "Unittest is a framework, which is basically a tool that unites several codes in common for one or several functionalities, for unit tests. It is available for Python versions 2.7 and 3.5 or higher.\n",
        "\n",
        "The unittest was created taking inspiration from JUnit, which is a framework for unit testing in the Java programming language."
      ]
    },
    {
      "cell_type": "markdown",
      "metadata": {
        "colab_type": "text",
        "id": "MJT9iFL9vA9s"
      },
      "source": [
        "## Classes and functions\n",
        "\n",
        "Unittest has several functions, known as Assertions, useful for the development of unit tests. Below are some of these functions and a brief explanation:"
      ]
    },
    {
      "cell_type": "markdown",
      "metadata": {
        "colab_type": "text",
        "id": "Y8HdgUFVQuZr"
      },
      "source": [
        "* ```assertEqual(a, b)     # tests if two values are equal ```\n",
        "\n",
        "* ```assertNotEqual(a, b)  # if two values are NOT equal```\n",
        "\n",
        "* ```assertTrue(a)         # if 'a' is True```\n",
        "\n",
        "* ```assertFalse(a)        # if 'a' is False```\n",
        "\n",
        "* ```assertIs(a,b)         # if 'a' is 'b'```\n",
        "\n",
        "* ```assertIsNot(a,b)      # if 'a' is not 'b'```\n",
        "\n",
        "* ```assertIsNone(a)       # if 'a' is None```\n",
        "\n",
        "* ```assertIsNotNone(a)    # if 'a' is not None```\n",
        "\n",
        "* ```assertIn(a, b)        # if 'a' is contained in 'b'```\n",
        "\n",
        "* ```assertNotIn(a, b)     # if 'a' is not contained in 'b'```\n",
        "\n",
        "* ```assertGreater(a, b)   # if 'a' > 'b'```\n",
        "\n",
        "* ```assertLess(a, b)      # if 'a' < 'b' ```"
      ]
    },
    {
      "cell_type": "markdown",
      "metadata": {
        "colab_type": "text",
        "id": "t2s2g7AfyAAB"
      },
      "source": [
        "Note: many functions of Unittest, are similar but make a check to the contrary of the other case, as `assertEqual` and `assertNotEqual`. These functions are marked by the presence of keywords such as “Not” or “False” in their name.\n",
        "\n",
        "Unittest also has two very useful and widely used functions which are the `setUp() `and `tearDown()` functions.\n",
        "\n",
        "`setUp()` is a function called to prepare the test environment. It is called immediately before the execution of a test case and can be used for several purposes such as creating variables, instantiating objects or classes and many others.\n",
        "\n",
        "`tearDown()` is a function that is called immediately after the execution of a test case. It is called even if the test case generated an exception or even failed and is generally used to delete variables created during the execution of the test case, or to undo actions performed by the test that may affect the next tests or not.\n",
        "\n",
        "\n",
        "You can acess the Unnittest documentation [here](https://docs.python.org/3/library/unittest.html)."
      ]
    },
    {
      "cell_type": "markdown",
      "metadata": {
        "colab_type": "text",
        "id": "dNTqPoiESgq_"
      },
      "source": [
        "#### Pro Tip: \n",
        "You can see examples of using these *functions* and integrate with them on google colab\n",
        "\n",
        "<a \n",
        "href=\"https://colab.research.google.com/github/damorimRG/practical_testing_book/blob/master/testgranularity/examples_asserts_functions.ipynb\" target=\"_blank\"> \n",
        "<img alt=\"Open In Colab\" src=\"https://colab.research.google.com/assets/colab-badge.svg\"></a>\n"
      ]
    },
    {
      "cell_type": "markdown",
      "metadata": {
        "colab_type": "text",
        "id": "akiFZ3OdTOTq"
      },
      "source": [
        "## Hands On"
      ]
    },
    {
      "cell_type": "code",
      "execution_count": 4,
      "metadata": {
        "colab": {},
        "colab_type": "code",
        "id": "gTeL-VB4u0lw"
      },
      "outputs": [],
      "source": [
        "# we need import the unittest class to hands on\n",
        "import unittest "
      ]
    },
    {
      "cell_type": "markdown",
      "metadata": {
        "colab_type": "text",
        "id": "aYQJq4PWvQFB"
      },
      "source": [
        "## The median example"
      ]
    },
    {
      "cell_type": "code",
      "execution_count": null,
      "metadata": {
        "colab": {},
        "colab_type": "code",
        "id": "MeMY64VWXfqD"
      },
      "outputs": [],
      "source": [
        "# Calculates the median between 3 numbers\n",
        "def median (a, b, c):\n",
        "  med = c\n",
        "  if (b < c):\n",
        "    if (a < b):\n",
        "      med = b\n",
        "    elif (a < c):\n",
        "      med = a\n",
        "  else:\n",
        "    if (a > b):\n",
        "      med = b\n",
        "    elif (a > c):\n",
        "      med = a\n",
        "\n",
        "  return med"
      ]
    },
    {
      "cell_type": "markdown",
      "metadata": {
        "colab_type": "text",
        "id": "-3wui04qcRb1"
      },
      "source": [
        "We will create three unit tests, to check if the median function passing the values `1,2 and 3`. In this case, we know that the median is 2. Let's call the function so that the number 2 is in the first parameter, the second and the last. Each test is written in one method; notice that we put the nomenclature of the method in a very descriptive way."
      ]
    },
    {
      "cell_type": "code",
      "execution_count": null,
      "metadata": {
        "colab": {},
        "colab_type": "code",
        "id": "3Y6wQRf9Ygb3"
      },
      "outputs": [],
      "source": [
        "# test case\n",
        "class MedianTestCase(unittest.TestCase):\n",
        "  def test_median_is_first(self):\n",
        "    self.assertEqual(2, median(2, 1, 3))\n",
        "\n",
        "  def test_median_is_last(self):\n",
        "    self.assertNotEqual(1, median(3, 1, 2))\n",
        "\n",
        "  # used to skip the test under some justification        \n",
        "  @unittest.skip('not working') \n",
        "  def test_median_is_middle(self):\n",
        "    self.assertEqual(1, median(1, 2, 3))"
      ]
    },
    {
      "cell_type": "code",
      "execution_count": null,
      "metadata": {
        "colab": {},
        "colab_type": "code",
        "id": "Tnayu86iYqjy"
      },
      "outputs": [],
      "source": [
        "# run the tests in jupyter notebook\n",
        "unittest.main(argv=[''], exit=False)"
      ]
    },
    {
      "cell_type": "markdown",
      "metadata": {
        "colab_type": "text",
        "id": "UyPjlHTPdO-f"
      },
      "source": [
        "Note in the tests `test_median_is_first` and `test_median_is_last`, where we see an `assertEquals` equality. And in the test `test_median_is_last` we call `assertNotEqual`, which checks if the values are not the same.\n",
        "\n",
        "The @unittest.skip tells the framework that this test should be skipped. If you remove this command, the test will be run and will fail."
      ]
    },
    {
      "cell_type": "markdown",
      "metadata": {
        "colab_type": "text",
        "id": "oSNV-9X2K9FS"
      },
      "source": [
        "## The circle example\n",
        "Watch this great video about Unittest.\n"
      ]
    },
    {
      "cell_type": "code",
      "execution_count": null,
      "metadata": {
        "colab": {
          "base_uri": "https://localhost:8080/",
          "height": 321
        },
        "colab_type": "code",
        "id": "2P3229V_dbH4",
        "outputId": "929b90f2-64df-42a3-8670-be4acf9161fd"
      },
      "outputs": [
        {
          "data": {
            "image/jpeg": "[encoded data removed]",
            "text/html": [
              "\n",
              "        <iframe\n",
              "            width=\"400\"\n",
              "            height=\"300\"\n",
              "            src=\"https://www.youtube.com/embed/1Lfv5tUGsn8\"\n",
              "            frameborder=\"0\"\n",
              "            allowfullscreen\n",
              "        ></iframe>\n",
              "        "
            ],
            "text/plain": [
              "<IPython.lib.display.YouTubeVideo at 0x7f509c6fcef0>"
            ]
          },
          "execution_count": 1,
          "metadata": {
            "tags": []
          },
          "output_type": "execute_result"
        }
      ],
      "source": [
        "from IPython.display import YouTubeVideo\n",
        "YouTubeVideo('1Lfv5tUGsn8')"
      ]
    },
    {
      "cell_type": "code",
      "execution_count": null,
      "metadata": {
        "colab": {},
        "colab_type": "code",
        "id": "14f4VPrPdbIN"
      },
      "outputs": [],
      "source": [
        "# Let's create the circle class in python\n",
        "from math import pi\n",
        "\n",
        "def circle_area(r):\n",
        "    if type(r) not in [int, float]:\n",
        "        raise TypeError(\"The radius must be a non-negative real number.\")\n",
        "    if r < 0:\n",
        "        raise ValueError(\"The radius must not be negative.\")\n",
        "    return pi*(r**2) "
      ]
    },
    {
      "cell_type": "code",
      "execution_count": null,
      "metadata": {
        "colab": {},
        "colab_type": "code",
        "id": "QtwxPwyBdbIc"
      },
      "outputs": [],
      "source": [
        "# Now let's write unit tests for this class\n",
        "class TestCircleArea(unittest.TestCase): \n",
        "    def test_area(self):\n",
        "        #Test area when radius >= 0\n",
        "        self.assertAlmostEqual(circle_area(1), pi)\n",
        "        self.assertAlmostEqual(circle_area(0), 0)\n",
        "        self.assertAlmostEqual(circle_area(2.1), pi * 2.1**2)\n",
        "\n",
        "    def test_values(self):\n",
        "        #Make sure value errors are raised when necessary\n",
        "        self.assertRaises(ValueError, circle_area, -2)\n",
        "\n",
        "    def test_type(self):\n",
        "        #Make sure type errors are raised when necessary\n",
        "        self.assertRaises(TypeError, circle_area, 3+5j)\n",
        "        self.assertRaises(TypeError, circle_area, True)\n",
        "        self.assertRaises(TypeError, circle_area, \"text\")"
      ]
    },
    {
      "cell_type": "code",
      "execution_count": null,
      "metadata": {
        "colab": {},
        "colab_type": "code",
        "id": "Pxp2iu3uT8Ql"
      },
      "outputs": [],
      "source": [
        "# run the tests in jupyter notebook\n",
        "unittest.main(argv=[''], exit=False)"
      ]
    },
    {
      "cell_type": "markdown",
      "metadata": {
        "colab_type": "text",
        "id": "bCISn0jWVn64"
      },
      "source": [
        "PS: to run the tests in a terminal, save the file with name \"TestCircleArea.py\", then run:\n",
        "\n",
        "`python3 TestCircleArea.py`"
      ]
    },
    {
      "cell_type": "markdown",
      "metadata": {
        "colab_type": "text",
        "id": "zCNyCsA-asBX"
      },
      "source": [
        "## The practical\n",
        "\n",
        "According to class Calculator that was presented above, elaborate at least three unit tests with two assertions. Enjoy!"
      ]
    },
    {
      "cell_type": "code",
      "execution_count": 13,
      "metadata": {
        "colab": {},
        "colab_type": "code",
        "id": "KDEKBDvAbdpl"
      },
      "outputs": [],
      "source": [
        "class CalculatorTestCase(unittest.TestCase):\n",
        "  def test_add(self):\n",
        "    result = Calculator.add(4,7)\n",
        "    self.assertEqual(result, 11)\n",
        "  #elaborate"
      ]
    },
    {
      "cell_type": "code",
      "execution_count": null,
      "metadata": {
        "colab": {},
        "colab_type": "code",
        "id": "lTi3vOTYwsOp"
      },
      "outputs": [],
      "source": [
        "# run the tests in jupyter notebook\n",
        "unittest.main(argv=[''], exit=False)"
      ]
    }
  ]
}
